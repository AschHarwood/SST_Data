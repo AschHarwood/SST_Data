{
 "cells": [
  {
   "cell_type": "code",
   "execution_count": 1,
   "metadata": {},
   "outputs": [],
   "source": [
    "import pandas as pd"
   ]
  },
  {
   "cell_type": "code",
   "execution_count": 2,
   "metadata": {},
   "outputs": [],
   "source": [
    "pd.set_option('display.max_columns', 500)"
   ]
  },
  {
   "cell_type": "code",
   "execution_count": 3,
   "metadata": {},
   "outputs": [],
   "source": [
    "sst_descriptions = pd.read_excel('sst_descriptions.xlsx', sheet_name=1)"
   ]
  },
  {
   "cell_type": "code",
   "execution_count": 4,
   "metadata": {},
   "outputs": [],
   "source": [
    "#update this file name with most recent download from ACLED\n",
    "current_data_input_file = 'sst_data_July_2020_2011.csv' "
   ]
  },
  {
   "cell_type": "code",
   "execution_count": 5,
   "metadata": {},
   "outputs": [],
   "source": [
    "sst_data = pd.read_csv(current_data_input_file)"
   ]
  },
  {
   "cell_type": "code",
   "execution_count": 15,
   "metadata": {},
   "outputs": [],
   "source": [
    "sst_data.to_json('sst_data.json')"
   ]
  },
  {
   "cell_type": "code",
   "execution_count": 16,
   "metadata": {},
   "outputs": [],
   "source": [
    "sst_data.to_html('sst_data.html')"
   ]
  },
  {
   "cell_type": "code",
   "execution_count": 14,
   "metadata": {},
   "outputs": [],
   "source": [
    "#sst_data[sst_data['country']==\"Botswana\"]"
   ]
  },
  {
   "cell_type": "code",
   "execution_count": 8,
   "metadata": {},
   "outputs": [],
   "source": [
    "#sst_data.head()"
   ]
  },
  {
   "cell_type": "code",
   "execution_count": 9,
   "metadata": {},
   "outputs": [],
   "source": [
    "#this joins the data file with the description file that Tableau needs to add descriptions to the inter categories\n",
    "\n",
    "with pd.ExcelWriter('sst_data.xlsx') as writer:\n",
    "    sst_data.to_excel(writer, sheet_name='data')\n",
    "    sst_descriptions.to_excel(writer, sheet_name='Sheet1')"
   ]
  },
  {
   "cell_type": "markdown",
   "metadata": {},
   "source": [
    "SST Update Steps\n",
    "\n",
    "1. Load SST Tableau Notebook\n",
    "2. Navigate to ACLED Data export tool https://www.acleddata.com/data/\n",
    "3. Set \"From\" Date to May 1, 2011\n",
    "4. Set \"To\" Date to current day\n",
    "5. From \"Regions\", select all Africa locations - Eastern Africa, Middle Africa, Northern Africa, Southern Africa, Western Africa\n",
    "6. Export and save file to current directory, /Google Drive/SST_Data\n",
    "7. When saving, rename file 'sst_data_CurrentMonth_CurrentYear_2011.csv'\n",
    "8. Load Jupyter Lab and access SST_Data\n",
    "9. Run ACLED_Join.ipynb (this notebook!)\n",
    "10. Update current_data_input_file with most recent ACLED download\n",
    "11. Run the script\n",
    "12. Open the Tableau SST workbook, navigate to data source\n",
    "13. Update May 1, 2019: the next time this runs, select replace data source, and select the file 'sst_data.xlsx' \n",
    "14. After you have confirmed that Tableau has updated correctly, deleted the file 'sst_data_2011_2019.xlsx'\n",
    "15. For subsequent times, simply refresh data source (skip steps 12 - 14)\n",
    "16. Publish workbook\n",
    "17. Confirm workbook has updated correctly on CFR.org\n"
   ]
  },
  {
   "cell_type": "code",
   "execution_count": null,
   "metadata": {},
   "outputs": [],
   "source": []
  }
 ],
 "metadata": {
  "kernelspec": {
   "display_name": "Python 3",
   "language": "python",
   "name": "python3"
  },
  "language_info": {
   "codemirror_mode": {
    "name": "ipython",
    "version": 3
   },
   "file_extension": ".py",
   "mimetype": "text/x-python",
   "name": "python",
   "nbconvert_exporter": "python",
   "pygments_lexer": "ipython3",
   "version": "3.7.3"
  }
 },
 "nbformat": 4,
 "nbformat_minor": 4
}
